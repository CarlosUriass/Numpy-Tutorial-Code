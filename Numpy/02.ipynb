{
 "cells": [
  {
   "cell_type": "code",
   "execution_count": 8,
   "id": "7ea8fe3c",
   "metadata": {},
   "outputs": [],
   "source": [
    "import numpy as np"
   ]
  },
  {
   "cell_type": "code",
   "execution_count": 13,
   "id": "048c4812",
   "metadata": {},
   "outputs": [
    {
     "data": {
      "text/plain": [
       "dtype('int64')"
      ]
     },
     "execution_count": 13,
     "metadata": {},
     "output_type": "execute_result"
    }
   ],
   "source": [
    "# 2.1\n",
    "arr = np.array([2, 4, 6, 8, 10])\n",
    "arr.dtype # Output = dtype('int64')"
   ]
  },
  {
   "cell_type": "code",
   "execution_count": 14,
   "id": "fd354f49",
   "metadata": {},
   "outputs": [
    {
     "data": {
      "text/plain": [
       "dtype('int32')"
      ]
     },
     "execution_count": 14,
     "metadata": {},
     "output_type": "execute_result"
    }
   ],
   "source": [
    "#2.2\n",
    "# Create an array of 32-bit integers\n",
    "arr_int32 = np.array([1, 2, 3], dtype=np.int32)\n",
    "arr_int32.dtype"
   ]
  },
  {
   "cell_type": "code",
   "execution_count": 15,
   "id": "fb7cd0d5",
   "metadata": {},
   "outputs": [
    {
     "data": {
      "text/plain": [
       "dtype('int16')"
      ]
     },
     "execution_count": 15,
     "metadata": {},
     "output_type": "execute_result"
    }
   ],
   "source": [
    "# 2.2.1\n",
    "\n",
    "# Create an array of 16-bit integers\n",
    "arr_int16 = np.array([1, 2, 3], dtype=np.int16)\n",
    "arr_int16.dtype"
   ]
  },
  {
   "cell_type": "code",
   "execution_count": 16,
   "id": "4ff4499b",
   "metadata": {},
   "outputs": [
    {
     "data": {
      "text/plain": [
       "dtype('int8')"
      ]
     },
     "execution_count": 16,
     "metadata": {},
     "output_type": "execute_result"
    }
   ],
   "source": [
    "#2.2.3\n",
    "# Create an array of 8-bit integers\n",
    "arr_int8 = np.array([1, 2, 3], dtype=np.int8)\n",
    "arr_int8.dtype"
   ]
  },
  {
   "cell_type": "code",
   "execution_count": 14,
   "id": "7cf4fe89",
   "metadata": {},
   "outputs": [
    {
     "name": "stdout",
     "output_type": "stream",
     "text": [
      "float64\n",
      "float32\n",
      "float16\n"
     ]
    }
   ],
   "source": [
    "#2.3.1\n",
    "\n",
    "# 64-bit floating-point\n",
    "arr_float64 = np.array([3.1, 2.2, 1.3], dtype=np.float64)\n",
    "print(arr_float64.dtype) # Output: float64\n",
    "\n",
    "#2.3.2\n",
    "# 32-bit floating-point\n",
    "arr_float32 = np.array([3.1, 2.2, 1.3], dtype=np.float32)\n",
    "print(arr_float32.dtype) # Output: float32\n",
    "\n",
    "# 2.3.3\n",
    "# 16-bit floating-point\n",
    "arr_float16 = np.array([3.1, 2.2, 1.3], dtype=np.float16)\n",
    "print(arr_float16.dtype) # Output: float16"
   ]
  },
  {
   "cell_type": "code",
   "execution_count": 17,
   "id": "c442a219",
   "metadata": {},
   "outputs": [],
   "source": [
    "#2.4\n",
    "\n",
    "# Create an array of character strings\n",
    "arr_str = np.array(['Hello', 'World'], dtype=np.str_)\n"
   ]
  },
  {
   "cell_type": "code",
   "execution_count": 12,
   "id": "14e6c803",
   "metadata": {},
   "outputs": [
    {
     "data": {
      "text/plain": [
       "array(['α', 'β', 'γ'], dtype='<U1')"
      ]
     },
     "execution_count": 12,
     "metadata": {},
     "output_type": "execute_result"
    }
   ],
   "source": [
    "#2.4.1\n",
    "\n",
    "# Create an array of Unicode strings\n",
    "arr_unicode = np.array(['α', 'β', 'γ'], dtype=np.unicode_)\n"
   ]
  },
  {
   "cell_type": "code",
   "execution_count": null,
   "id": "ed6aaee3",
   "metadata": {},
   "outputs": [],
   "source": []
  }
 ],
 "metadata": {
  "kernelspec": {
   "display_name": "Python 3 (ipykernel)",
   "language": "python",
   "name": "python3"
  },
  "language_info": {
   "codemirror_mode": {
    "name": "ipython",
    "version": 3
   },
   "file_extension": ".py",
   "mimetype": "text/x-python",
   "name": "python",
   "nbconvert_exporter": "python",
   "pygments_lexer": "ipython3",
   "version": "3.11.4"
  }
 },
 "nbformat": 4,
 "nbformat_minor": 5
}
