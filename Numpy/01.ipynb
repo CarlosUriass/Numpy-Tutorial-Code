{
 "cells": [
  {
   "cell_type": "code",
   "execution_count": 1,
   "metadata": {},
   "outputs": [],
   "source": [
    "import numpy as np"
   ]
  },
  {
   "cell_type": "code",
   "execution_count": 32,
   "metadata": {},
   "outputs": [
    {
     "name": "stdout",
     "output_type": "stream",
     "text": [
      "['🍌' '🍒' '🍓' '🍏' '🍉']\n"
     ]
    }
   ],
   "source": [
    "# 1.1 Declare array\n",
    "\n",
    "fruits = np.array([\"🍌\",\"🍒\",\"🍓\",\"🍏\",\"🍉\"])\n",
    "print(fruits)"
   ]
  },
  {
   "cell_type": "code",
   "execution_count": 33,
   "metadata": {},
   "outputs": [
    {
     "name": "stdout",
     "output_type": "stream",
     "text": [
      "['Rice' 'Fish' 'Meat' 'Lettuce']\n"
     ]
    }
   ],
   "source": [
    "# 1.1.2 Array from list\n",
    "\n",
    "market_list = ['Rice', 'Fish', 'Meat', 'Lettuce']\n",
    "\n",
    "# 1.2.3 List to array\n",
    "\n",
    "supermarket_array = np.array(market_list)\n",
    "print(supermarket_array)\n",
    "\n"
   ]
  },
  {
   "cell_type": "code",
   "execution_count": 34,
   "metadata": {
    "scrolled": false
   },
   "outputs": [
    {
     "name": "stdout",
     "output_type": "stream",
     "text": [
      "Rice\n"
     ]
    }
   ],
   "source": [
    "# 1.2 Accessing data by index\n",
    "print(supermarket_array[0])"
   ]
  },
  {
   "cell_type": "code",
   "execution_count": 35,
   "metadata": {},
   "outputs": [
    {
     "name": "stdout",
     "output_type": "stream",
     "text": [
      "['Fish' 'Meat']\n",
      "['Rice' 'Fish']\n",
      "['Meat' 'Lettuce']\n",
      "['Rice' 'Meat']\n",
      "['Lettuce' 'Meat' 'Fish' 'Rice']\n"
     ]
    }
   ],
   "source": [
    "# Slicing in Numpy\n",
    "\n",
    "# 1.2.1 Access a range of elements\n",
    "subset = supermarket_array[1:3]  # You will get the elements at positions 1 and 2\n",
    "print(subset)  # Output: ['Fish', 'Meat']\n",
    "\n",
    "# 1.2.2 Access from the beginning to a specific position\n",
    "subset_start = supermarket_array[:2]  # You will get the elements at positions 0 and 1\n",
    "print(subset_start)  # Output: ['Rice', 'Fish']\n",
    "\n",
    "# 1.2.3 Access from a specific position to the end\n",
    "subset_end = supermarket_array[2:]  # You will get the elements at positions 2 and 3\n",
    "print(subset_end)  # Output: ['Meat', 'Lettuce']\n",
    "\n",
    "# 1.2.3 Access with a specific step\n",
    "subset_step = supermarket_array[::2]  # You will get elements with a step of 2\n",
    "print(subset_step)  # Output: ['Rice', 'Meat']\n",
    "\n",
    "# 1.2.4 Access in reverse order\n",
    "reverse_order = supermarket_array[::-1]  # You will get the elements in reverse order\n",
    "print(reverse_order)  # Output: ['Lettuce', 'Meat', 'Fish', 'Rice']\n"
   ]
  },
  {
   "cell_type": "code",
   "execution_count": null,
   "metadata": {},
   "outputs": [],
   "source": []
  }
 ],
 "metadata": {
  "kernelspec": {
   "display_name": "Python 3 (ipykernel)",
   "language": "python",
   "name": "python3"
  },
  "language_info": {
   "codemirror_mode": {
    "name": "ipython",
    "version": 3
   },
   "file_extension": ".py",
   "mimetype": "text/x-python",
   "name": "python",
   "nbconvert_exporter": "python",
   "pygments_lexer": "ipython3",
   "version": "3.11.4"
  }
 },
 "nbformat": 4,
 "nbformat_minor": 2
}
